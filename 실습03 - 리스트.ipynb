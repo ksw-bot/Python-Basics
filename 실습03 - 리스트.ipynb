{
 "cells": [
  {
   "cell_type": "markdown",
   "metadata": {
    "id": "b3TDAdnvnSbh"
   },
   "source": [
    "<center><img src='https://raw.githubusercontent.com/Jangrae/img/master/title.png' width=500/></center>"
   ]
  },
  {
   "cell_type": "markdown",
   "metadata": {
    "id": "mDCfW4_-1Y_x"
   },
   "source": [
    "<center><img src='https://raw.githubusercontent.com/Jangrae/img/master/practice.png' width=300/></center>"
   ]
  },
  {
   "cell_type": "markdown",
   "metadata": {
    "id": "32779570"
   },
   "source": [
    "# 실습 #1: 리스트 생성하기"
   ]
  },
  {
   "cell_type": "markdown",
   "metadata": {
    "id": "YsczyFXrCcHJ"
   },
   "source": [
    "1) 리스트 a에 1, 2, 3, 4, 5를 저장하고 출력하세요."
   ]
  },
  {
   "cell_type": "code",
   "execution_count": 1,
   "metadata": {
    "id": "060a7ef0"
   },
   "outputs": [
    {
     "data": {
      "text/plain": [
       "[1, 2, 3, 4, 5]"
      ]
     },
     "execution_count": 1,
     "metadata": {},
     "output_type": "execute_result"
    }
   ],
   "source": [
    "a=[1, 2, 3, 4, 5]\n",
    "a\n",
    "\n",
    "\n"
   ]
  },
  {
   "cell_type": "markdown",
   "metadata": {
    "id": "8hkGME6GCg-r"
   },
   "source": [
    "2) 리스트 b에 'ab', 'cd', 'ef'를 저장하고 출력하세요."
   ]
  },
  {
   "cell_type": "code",
   "execution_count": 3,
   "metadata": {
    "id": "b9a33756"
   },
   "outputs": [
    {
     "data": {
      "text/plain": [
       "['ab', 'cd', 'ef']"
      ]
     },
     "execution_count": 3,
     "metadata": {},
     "output_type": "execute_result"
    }
   ],
   "source": [
    "\n",
    "b=['ab', 'cd', 'ef']\n",
    "b\n",
    "\n"
   ]
  },
  {
   "cell_type": "markdown",
   "metadata": {
    "id": "KCBlca7RC9Oz"
   },
   "source": [
    "3) 리스트 c에 123, 'ab', 45, 'cde'를 저장하고 출력하세요."
   ]
  },
  {
   "cell_type": "code",
   "execution_count": 7,
   "metadata": {
    "id": "e3a434ab"
   },
   "outputs": [
    {
     "data": {
      "text/plain": [
       "[123, 'ab', 45, 'cde']"
      ]
     },
     "execution_count": 7,
     "metadata": {},
     "output_type": "execute_result"
    }
   ],
   "source": [
    "\n",
    "c=[123, 'ab', 45, 'cde']\n",
    "c\n"
   ]
  },
  {
   "cell_type": "markdown",
   "metadata": {
    "id": "fFMeIxCnC_fL"
   },
   "source": [
    "4) 리스트 list_a에 1, 3, 5, 7, 9를, 리스트 list_b에 1, 'a', 3, 'b'를 저장하고 각각의 리스트를 출력하세요."
   ]
  },
  {
   "cell_type": "code",
   "execution_count": 9,
   "metadata": {
    "id": "47158015"
   },
   "outputs": [
    {
     "name": "stdout",
     "output_type": "stream",
     "text": [
      "[1, 3, 5, 7, 9]\n",
      "[1, 'a', 3, 'b']\n"
     ]
    }
   ],
   "source": [
    "\n",
    "list_a=[1, 3, 5, 7, 9]\n",
    "list_b=[1, 'a', 3, 'b']\n",
    "print(list_a)\n",
    "print(list_b)"
   ]
  },
  {
   "cell_type": "markdown",
   "metadata": {
    "id": "V2M5sylfDBsd"
   },
   "source": [
    "5) range() 함수를 사용하여 0부터 20까지의 값들을 리스트 d에 저장하고 출력하세요."
   ]
  },
  {
   "cell_type": "code",
   "execution_count": 11,
   "metadata": {
    "id": "58dbcc58"
   },
   "outputs": [
    {
     "data": {
      "text/plain": [
       "[0, 1, 2, 3, 4, 5, 6, 7, 8, 9, 10, 11, 12, 13, 14, 15, 16, 17, 18, 19, 20]"
      ]
     },
     "execution_count": 11,
     "metadata": {},
     "output_type": "execute_result"
    }
   ],
   "source": [
    "\n",
    "d=list(range(0, 21))\n",
    "d\n"
   ]
  },
  {
   "cell_type": "markdown",
   "metadata": {
    "id": "q-wOdj_0DEA2"
   },
   "source": [
    "6) range() 함수를 사용하여 1부터 19까지 3씩 증가시킨 값들을 리스트 list_c에 저장하고 출력하세요."
   ]
  },
  {
   "cell_type": "code",
   "execution_count": 13,
   "metadata": {
    "id": "64c8475f"
   },
   "outputs": [
    {
     "data": {
      "text/plain": [
       "[1, 4, 7, 10, 13, 16, 19]"
      ]
     },
     "execution_count": 13,
     "metadata": {},
     "output_type": "execute_result"
    }
   ],
   "source": [
    "\n",
    "list_c=list(range(1, 20, 3))\n",
    "\n",
    "list_c\n"
   ]
  },
  {
   "cell_type": "markdown",
   "metadata": {
    "id": "V1wO-_JrDF2G"
   },
   "source": [
    "7) 리스트 list_d에 1, 2, 3을 저장한 뒤, 리스트 list_e에 리스트 list_d와 4, 5를 저장하고 출력하세요.\n"
   ]
  },
  {
   "cell_type": "code",
   "execution_count": 15,
   "metadata": {
    "id": "9b35e90a"
   },
   "outputs": [
    {
     "data": {
      "text/plain": [
       "[1, 2, 3, 4, 5]"
      ]
     },
     "execution_count": 15,
     "metadata": {},
     "output_type": "execute_result"
    }
   ],
   "source": [
    "\n",
    "list_d=[1, 2, 3]\n",
    "list_e=list_d+[4, 5]\n",
    "list_e\n",
    "\n"
   ]
  },
  {
   "cell_type": "markdown",
   "metadata": {
    "id": "biFIvEzXDL31"
   },
   "source": [
    "8) 리스트 list1에 1, 3, 'hello'를 저장한 뒤, 리스트 list2에 리스트 list1과 'happy', 2, 4를 저장하고 출력하세요."
   ]
  },
  {
   "cell_type": "code",
   "execution_count": 17,
   "metadata": {
    "id": "e8dd7b92"
   },
   "outputs": [
    {
     "data": {
      "text/plain": [
       "[1, 3, 'hello', 'happy', 2, 4]"
      ]
     },
     "execution_count": 17,
     "metadata": {},
     "output_type": "execute_result"
    }
   ],
   "source": [
    "list1=[1, 3, 'hello']\n",
    "list2=list1+['happy', 2, 4]\n",
    "\n",
    "list2\n"
   ]
  },
  {
   "cell_type": "markdown",
   "metadata": {
    "id": "415e0083"
   },
   "source": [
    "# 실습 #2: 리스트 인덱싱과 슬라이싱"
   ]
  },
  {
   "cell_type": "markdown",
   "metadata": {
    "id": "Mc1z9yJFDReh"
   },
   "source": [
    "1) 리스트 list1에 1, 2, 3, 4, 5를 저장하고, 첫 번째 값과 마지막 값을 각각 출력하세요."
   ]
  },
  {
   "cell_type": "code",
   "execution_count": 19,
   "metadata": {
    "id": "66a0e92f"
   },
   "outputs": [
    {
     "name": "stdout",
     "output_type": "stream",
     "text": [
      "1 5\n"
     ]
    }
   ],
   "source": [
    "\n",
    "list1=[1, 2, 3, 4 ,5]\n",
    "print(list1[0], list1[-1])\n",
    "\n"
   ]
  },
  {
   "cell_type": "markdown",
   "metadata": {
    "id": "Edf2Hk6gDTPa"
   },
   "source": [
    "2) 리스트 a에 23, 3, 16, 45, 11을 저장하고 다음 값을 출력하세요.\n",
    "\n",
    "- 앞에서부터 첫 번째 값과 네 번째 값을 하나의 print 함수로 출력\n",
    "- 뒤에서부터 첫 번째 값과 세 번째 값을 하나의 print 함수로 출력"
   ]
  },
  {
   "cell_type": "code",
   "execution_count": 23,
   "metadata": {
    "id": "5314564e"
   },
   "outputs": [
    {
     "name": "stdout",
     "output_type": "stream",
     "text": [
      "23 45\n",
      "11 16\n"
     ]
    }
   ],
   "source": [
    "\n",
    "\n",
    "a=[23, 3, 16, 45, 11]\n",
    "\n",
    "print(a[0], a[3])\n",
    "print(a[-1], a[-3])"
   ]
  },
  {
   "cell_type": "markdown",
   "metadata": {
    "id": "V5OQVcVDDXIc"
   },
   "source": [
    "3) 리스트 a에 23, 3, 16, 45, 11을 저장하고, 첫 번째 값부터 세 번째 값까지 출력하세요.\n"
   ]
  },
  {
   "cell_type": "code",
   "execution_count": 27,
   "metadata": {
    "id": "90ab75d3"
   },
   "outputs": [
    {
     "data": {
      "text/plain": [
       "[23, 3, 16]"
      ]
     },
     "execution_count": 27,
     "metadata": {},
     "output_type": "execute_result"
    }
   ],
   "source": [
    "\n",
    "a=[23, 3, 16, 45, 11]\n",
    "a[0:3]\n",
    "\n"
   ]
  },
  {
   "cell_type": "markdown",
   "metadata": {
    "id": "Nb3jpaaADa32"
   },
   "source": [
    "4) 리스트 a에 23, 3, 16, 45, 11을 저장하고, 세 번째 값부터 마지막 값까지 출력하세요."
   ]
  },
  {
   "cell_type": "code",
   "execution_count": 31,
   "metadata": {
    "id": "a1dba84a"
   },
   "outputs": [
    {
     "data": {
      "text/plain": [
       "[16, 45, 11]"
      ]
     },
     "execution_count": 31,
     "metadata": {},
     "output_type": "execute_result"
    }
   ],
   "source": [
    "a=[23, 3, 16, 45, 11]\n",
    "a[2:]\n",
    "\n",
    "\n"
   ]
  },
  {
   "cell_type": "markdown",
   "metadata": {
    "id": "MvEBm_5fDeSv"
   },
   "source": [
    "5) 리스트 a에 23, 3, 16, 45, 11을 저장하고, 아래 예시와 같이 출력하세요.\n",
    "\n",
    "- 첫 번째 줄은 순방향 인덱싱과 슬라이싱을 사용하세요.\n",
    "- 두 번째 줄은 역방향 인덱싱과 슬라이싱을 사용하세요.\n",
    "~~~\n",
    "[3, 16, 45] [23, 3, 16] [16, 45] [16, 45, 11]\n",
    "[16, 45] [] [16, 45, 11] [23]\n",
    "~~~"
   ]
  },
  {
   "cell_type": "code",
   "execution_count": 126,
   "metadata": {
    "id": "a429fba0"
   },
   "outputs": [
    {
     "name": "stdout",
     "output_type": "stream",
     "text": [
      "[3, 16, 45] [23, 3, 16] [16, 45] [16, 45, 11]\n",
      "[16, 45] [] [16, 45, 11] [23]\n"
     ]
    }
   ],
   "source": [
    "a=[23, 3, 16, 45, 11]\n",
    "print(a[1:4], a[:3], a[2:4], a[2:])\n",
    "print( a[-3:-1], a[100:], a[-3:], [a[-5]])"
   ]
  },
  {
   "cell_type": "markdown",
   "metadata": {
    "id": "fc048fc3"
   },
   "source": [
    "# 실습 #3: 리스트 수정하기"
   ]
  },
  {
   "cell_type": "markdown",
   "metadata": {
    "id": "UxI2odLADj_D"
   },
   "source": [
    "1) 리스트 a에 23, 3, 16, 45, 11을 저장한 뒤 append()를 사용하여 99를 추가하세요.\n",
    "- 힌트: 리스트.append(추가할 값)"
   ]
  },
  {
   "cell_type": "code",
   "execution_count": 55,
   "metadata": {
    "id": "24ec8803"
   },
   "outputs": [
    {
     "data": {
      "text/plain": [
       "[23, 3, 16, 45, 11, 99]"
      ]
     },
     "execution_count": 55,
     "metadata": {},
     "output_type": "execute_result"
    }
   ],
   "source": [
    "a=[23, 3, 16, 45, 11]\n",
    "a.append(99)\n",
    "a"
   ]
  },
  {
   "cell_type": "markdown",
   "metadata": {
    "id": "Z54kSDZCDnS1"
   },
   "source": [
    "2) 리스트 a에 23, 3, 16, 45, 11을 저장하고, append()로 99를 추가한 뒤, 리스트 + 리스트 형태를 사용하여 100을 추가하세요."
   ]
  },
  {
   "cell_type": "code",
   "execution_count": 57,
   "metadata": {
    "id": "ff826916"
   },
   "outputs": [
    {
     "data": {
      "text/plain": [
       "[23, 3, 16, 45, 11, 99, 100]"
      ]
     },
     "execution_count": 57,
     "metadata": {},
     "output_type": "execute_result"
    }
   ],
   "source": [
    "a=[23, 3, 16, 45, 11]\n",
    "a.append(99)\n",
    "a=a+[100]\n",
    "a\n",
    "\n",
    "\n"
   ]
  },
  {
   "cell_type": "markdown",
   "metadata": {
    "id": "KpVyu8wZDxCc"
   },
   "source": [
    "3) 리스트 list1에 1, 3, 5, 7을, 리스트 list2에 2, 4, 8을 저장하고, list1의 두 번째 값을 list2에 추가하세요."
   ]
  },
  {
   "cell_type": "code",
   "execution_count": 65,
   "metadata": {
    "id": "6d06df73"
   },
   "outputs": [
    {
     "data": {
      "text/plain": [
       "[2, 4, 8, 3]"
      ]
     },
     "execution_count": 65,
     "metadata": {},
     "output_type": "execute_result"
    }
   ],
   "source": [
    "list1=[1, 3, 5, 7]\n",
    "list2=[2, 4, 8]\n",
    "list2.append(list1[1])\n",
    "list2\n",
    "\n",
    "\n",
    "\n"
   ]
  },
  {
   "cell_type": "markdown",
   "metadata": {
    "id": "iyxySbePD7l8"
   },
   "source": [
    "4) 리스트 list1에 1, 3, 5, 7을, 리스트 list2에 2, 4, 8을 저장하고 list2에 list1를 추가하세요.\n",
    "\n",
    "- 단, 리스트 + 리스트 형태를 사용하세요."
   ]
  },
  {
   "cell_type": "code",
   "execution_count": 67,
   "metadata": {
    "id": "6fbba8ef",
    "scrolled": true
   },
   "outputs": [
    {
     "data": {
      "text/plain": [
       "[2, 4, 8, 1, 3, 5, 7]"
      ]
     },
     "execution_count": 67,
     "metadata": {},
     "output_type": "execute_result"
    }
   ],
   "source": [
    "list1=[1, 3, 5, 7]\n",
    "list2=[2, 4, 8]\n",
    "list2+list1\n"
   ]
  },
  {
   "cell_type": "markdown",
   "metadata": {
    "id": "0Vbs7N5mEIHt"
   },
   "source": [
    "5) 리스트 a에 23, 3, 16, 45, 11을 저장하고 두 번째 값을 출력한 뒤 300으로 수정하고 다시 출력하세요.\n",
    "- 힌트: 리스트[수정 대상 인덱스] = 수정할 값\n"
   ]
  },
  {
   "cell_type": "code",
   "execution_count": 71,
   "metadata": {
    "id": "2d72f156"
   },
   "outputs": [
    {
     "data": {
      "text/plain": [
       "[23, 300, 16, 45, 11]"
      ]
     },
     "execution_count": 71,
     "metadata": {},
     "output_type": "execute_result"
    }
   ],
   "source": [
    "\n",
    "\n",
    "a=[23, 3, 16, 45, 11]\n",
    "a[1]=300\n",
    "a"
   ]
  },
  {
   "cell_type": "markdown",
   "metadata": {
    "id": "ZdTV8guzERIv"
   },
   "source": [
    "6) 리스트 a에 23, 3, 16, 45, 11을 저장하고 리스트의 마지막 값을 출력한 뒤 두 배의 값으로 수정하세요."
   ]
  },
  {
   "cell_type": "code",
   "execution_count": 73,
   "metadata": {
    "id": "81cbdd17"
   },
   "outputs": [
    {
     "data": {
      "text/plain": [
       "[23, 3, 16, 45, 22]"
      ]
     },
     "execution_count": 73,
     "metadata": {},
     "output_type": "execute_result"
    }
   ],
   "source": [
    "\n",
    "\n",
    "a=[23, 3, 16, 45, 11]\n",
    "a[-1]=a[-1]*2\n",
    "a\n"
   ]
  },
  {
   "cell_type": "markdown",
   "metadata": {
    "id": "iDjXzN-dEXyM"
   },
   "source": [
    "7) 리스트 a에 23, 3, 16, 45, 11을 저장하고 두 번째 값을 삭제하세요.\n",
    "- 힌트: del 리스트[삭제 대상 인덱스]"
   ]
  },
  {
   "cell_type": "code",
   "execution_count": 77,
   "metadata": {
    "id": "90ba61fa"
   },
   "outputs": [
    {
     "data": {
      "text/plain": [
       "[23, 16, 45, 11]"
      ]
     },
     "execution_count": 77,
     "metadata": {},
     "output_type": "execute_result"
    }
   ],
   "source": [
    "\n",
    "a=[23, 3, 16, 45, 11]\n",
    "del a[1]\n",
    "\n",
    "a"
   ]
  },
  {
   "cell_type": "markdown",
   "metadata": {
    "id": "f17e9774"
   },
   "source": [
    "# 실습 #4: 리스트 관련 함수와 메서드"
   ]
  },
  {
   "cell_type": "markdown",
   "metadata": {
    "id": "CdLp0KdNEnjM"
   },
   "source": [
    "1) 리스트 list2에 1부터 20까지 3씩 증가하는 값들을 저장하고, 리스트 값들의 개수를 구하세요.\n",
    "\n",
    "- 힌트: len(리스트 이름)\n"
   ]
  },
  {
   "cell_type": "code",
   "execution_count": 85,
   "metadata": {
    "id": "4ed258ee"
   },
   "outputs": [
    {
     "data": {
      "text/plain": [
       "7"
      ]
     },
     "execution_count": 85,
     "metadata": {},
     "output_type": "execute_result"
    }
   ],
   "source": [
    "list2= list(range(1, 21, 3))\n",
    "list2\n",
    "len(list2)\n",
    "\n",
    "\n"
   ]
  },
  {
   "cell_type": "markdown",
   "metadata": {
    "id": "D3gEiM3yErZe"
   },
   "source": [
    "2) 리스트 list3에 'python', 'is', 'funny'를 저장하고, 리스트 값들의 개수를 구하세요."
   ]
  },
  {
   "cell_type": "code",
   "execution_count": 87,
   "metadata": {
    "id": "1988b7bd"
   },
   "outputs": [
    {
     "data": {
      "text/plain": [
       "3"
      ]
     },
     "execution_count": 87,
     "metadata": {},
     "output_type": "execute_result"
    }
   ],
   "source": [
    "\n",
    "\n",
    "list3=['python', 'is', 'funny']\n",
    "len(list3)\n"
   ]
  },
  {
   "cell_type": "markdown",
   "metadata": {
    "id": "OrH9KDP7Ey4z"
   },
   "source": [
    "3) 리스트 list1에 1 ~ 100 중 7의 배수를 저장하고, 리스트 값들의 합을 구하세요.\n",
    "\n",
    "- 힌트: sum(리스트 이름)"
   ]
  },
  {
   "cell_type": "code",
   "execution_count": 93,
   "metadata": {
    "id": "0f4c7544"
   },
   "outputs": [
    {
     "data": {
      "text/plain": [
       "735"
      ]
     },
     "execution_count": 93,
     "metadata": {},
     "output_type": "execute_result"
    }
   ],
   "source": [
    "\n",
    "list1=list(range(0, 101, 7 ))\n",
    "list1\n",
    "sum(list1)\n"
   ]
  },
  {
   "cell_type": "markdown",
   "metadata": {
    "id": "K5P8icaRFJqw"
   },
   "source": [
    "4) 리스트 list1에 10, 20, 30, 40, 50을 저장하고, list1의 자료형을 확인하세요.\n",
    "\n",
    "- 힌트: type(자료형)\n"
   ]
  },
  {
   "cell_type": "code",
   "execution_count": 95,
   "metadata": {
    "id": "233391f7"
   },
   "outputs": [
    {
     "data": {
      "text/plain": [
       "list"
      ]
     },
     "execution_count": 95,
     "metadata": {},
     "output_type": "execute_result"
    }
   ],
   "source": [
    "\n",
    "list1=[10, 20, 30, 40, 50]\n",
    "type(list1)\n",
    "\n"
   ]
  },
  {
   "cell_type": "markdown",
   "metadata": {
    "id": "mRSakjfgFT4l"
   },
   "source": [
    "5) 리스트에서는 평균을 구하는 함수가 제공되지 않습니다.\n",
    "\n",
    "- 리스트 num = [10, 21, 34, 47, 53]일 때, num의 평균을 계산하여 출력하세요."
   ]
  },
  {
   "cell_type": "code",
   "execution_count": 97,
   "metadata": {
    "id": "00947959"
   },
   "outputs": [
    {
     "data": {
      "text/plain": [
       "33.0"
      ]
     },
     "execution_count": 97,
     "metadata": {},
     "output_type": "execute_result"
    }
   ],
   "source": [
    "num = [10, 21, 34, 47, 53]\n",
    "sum(num)/5\n"
   ]
  },
  {
   "cell_type": "markdown",
   "metadata": {
    "id": "23X8SittFn6I"
   },
   "source": [
    "6) 리스트 list1에 10, 20, 30, 40, 50을 저장하고, 맨 끝에 60을 추가하세요."
   ]
  },
  {
   "cell_type": "code",
   "execution_count": 101,
   "metadata": {
    "id": "45f38846"
   },
   "outputs": [
    {
     "data": {
      "text/plain": [
       "[10, 20, 30, 40, 50, 60]"
      ]
     },
     "execution_count": 101,
     "metadata": {},
     "output_type": "execute_result"
    }
   ],
   "source": [
    "list1=[10, 20, 30, 40, 50]\n",
    "list1.append(60)\n",
    "list1"
   ]
  },
  {
   "cell_type": "markdown",
   "metadata": {
    "id": "SJCxCEP0Fv5c"
   },
   "source": [
    "7) 리스트 list3에 'python', 'is', 'funny'를 저장하고, 맨 끝에 '~', '!' 을 차례대로 추가하세요."
   ]
  },
  {
   "cell_type": "code",
   "execution_count": 105,
   "metadata": {
    "id": "7d34a796"
   },
   "outputs": [
    {
     "data": {
      "text/plain": [
       "['python', 'is', 'funny', '~', '!']"
      ]
     },
     "execution_count": 105,
     "metadata": {},
     "output_type": "execute_result"
    }
   ],
   "source": [
    "list3=['python', 'is', 'funny']\n",
    "list3.append('~')\n",
    "list3.append('!')\n",
    "\n",
    "\n",
    "list3"
   ]
  },
  {
   "cell_type": "markdown",
   "metadata": {
    "id": "D2z7mynEF8vz"
   },
   "source": [
    "8) 리스트 list1에 10, 20, 30, 40, 50을 저장하고 세 번째 위치에 60을 추가하세요.\n",
    "- 힌트: 리스트 이름.insert(추가할 위치의 인덱스 값, 추가할 값)"
   ]
  },
  {
   "cell_type": "code",
   "execution_count": 109,
   "metadata": {
    "id": "60d29e0b"
   },
   "outputs": [
    {
     "data": {
      "text/plain": [
       "[10, 20, 60, 30, 40, 50]"
      ]
     },
     "execution_count": 109,
     "metadata": {},
     "output_type": "execute_result"
    }
   ],
   "source": [
    "\n",
    "list1=[10, 20, 30, 40, 50]\n",
    "list1.insert(2, 60)\n",
    "list1\n"
   ]
  },
  {
   "cell_type": "markdown",
   "metadata": {
    "id": "2UytxYVmGFH4"
   },
   "source": [
    "9) 리스트 list1에 10, 20, 30, 40, 50을 저장하고, 30을 삭제하세요.\n",
    "\n",
    "- 힌트: 리스트 이름.remove(삭제할 값)"
   ]
  },
  {
   "cell_type": "code",
   "execution_count": 113,
   "metadata": {
    "id": "305935aa"
   },
   "outputs": [
    {
     "data": {
      "text/plain": [
       "[10, 20, 40, 50]"
      ]
     },
     "execution_count": 113,
     "metadata": {},
     "output_type": "execute_result"
    }
   ],
   "source": [
    "\n",
    "list1=[10, 20, 30, 40, 50]\n",
    "list1.remove(30)\n",
    "list1\n"
   ]
  },
  {
   "cell_type": "markdown",
   "metadata": {
    "id": "GN7mCHa-GK-x"
   },
   "source": [
    "10) 리스트 list2에 1부터 20까지 3씩 증가하는 값들을 저장하고, 뒤에서 세 번째 값을 삭제하세요."
   ]
  },
  {
   "cell_type": "code",
   "execution_count": 115,
   "metadata": {
    "id": "c0c2c69b"
   },
   "outputs": [
    {
     "data": {
      "text/plain": [
       "[1, 4, 7, 10, 16, 19]"
      ]
     },
     "execution_count": 115,
     "metadata": {},
     "output_type": "execute_result"
    }
   ],
   "source": [
    "\n",
    "\n",
    "list2=list(range(1, 21, 3))\n",
    "del list2[-3]\n",
    "list2\n"
   ]
  },
  {
   "cell_type": "markdown",
   "metadata": {
    "id": "qjGi__UFGQp-"
   },
   "source": [
    "11) 리스트 a = [1, 4, 3, 2]일 때 리스트의 값들을 오름차순으로 정렬해서 출력하세요.\n",
    "\n",
    "- 힌트: 리스트 이름.sort()"
   ]
  },
  {
   "cell_type": "code",
   "execution_count": 119,
   "metadata": {
    "id": "39c77831"
   },
   "outputs": [
    {
     "data": {
      "text/plain": [
       "[1, 2, 3, 4]"
      ]
     },
     "execution_count": 119,
     "metadata": {},
     "output_type": "execute_result"
    }
   ],
   "source": [
    "a= [1, 4, 3, 2]\n",
    "a.sort()\n",
    "a\n",
    "\n",
    "\n"
   ]
  },
  {
   "cell_type": "markdown",
   "metadata": {
    "id": "MC_e_FNgGVxZ"
   },
   "source": [
    "12) 리스트 b = ['c', 'a', 'b', 'd']일 때 리스트의 값들을 내림차순으로 정렬해서 출력하세요.\n",
    "\n",
    "- 힌트: 리스트 이름.sort(reverse=True)"
   ]
  },
  {
   "cell_type": "code",
   "execution_count": 123,
   "metadata": {
    "id": "888a76e3"
   },
   "outputs": [
    {
     "data": {
      "text/plain": [
       "['d', 'c', 'b', 'a']"
      ]
     },
     "execution_count": 123,
     "metadata": {},
     "output_type": "execute_result"
    }
   ],
   "source": [
    "\n",
    " b = ['c', 'a', 'b', 'd']\n",
    "b.sort(reverse=True)\n",
    "b\n",
    "\n"
   ]
  },
  {
   "cell_type": "code",
   "execution_count": null,
   "metadata": {},
   "outputs": [],
   "source": []
  }
 ],
 "metadata": {
  "colab": {
   "provenance": []
  },
  "kernelspec": {
   "display_name": "Python 3 (ipykernel)",
   "language": "python",
   "name": "python3"
  },
  "language_info": {
   "codemirror_mode": {
    "name": "ipython",
    "version": 3
   },
   "file_extension": ".py",
   "mimetype": "text/x-python",
   "name": "python",
   "nbconvert_exporter": "python",
   "pygments_lexer": "ipython3",
   "version": "3.12.4"
  }
 },
 "nbformat": 4,
 "nbformat_minor": 4
}
